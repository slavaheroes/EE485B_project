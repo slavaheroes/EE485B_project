{
 "cells": [
  {
   "cell_type": "code",
   "execution_count": 1,
   "id": "1eb0db05",
   "metadata": {},
   "outputs": [],
   "source": [
    "import os\n",
    "import pandas as pd\n",
    "MAIN_DIR = \"/mnt/home/20180878/EE488B_project/vgg_data/train/\""
   ]
  },
  {
   "cell_type": "code",
   "execution_count": 2,
   "id": "f6c13275",
   "metadata": {},
   "outputs": [
    {
     "name": "stdout",
     "output_type": "stream",
     "text": [
      "3141890\n"
     ]
    },
    {
     "data": {
      "text/html": [
       "<div>\n",
       "<style scoped>\n",
       "    .dataframe tbody tr th:only-of-type {\n",
       "        vertical-align: middle;\n",
       "    }\n",
       "\n",
       "    .dataframe tbody tr th {\n",
       "        vertical-align: top;\n",
       "    }\n",
       "\n",
       "    .dataframe thead th {\n",
       "        text-align: right;\n",
       "    }\n",
       "</style>\n",
       "<table border=\"1\" class=\"dataframe\">\n",
       "  <thead>\n",
       "    <tr style=\"text-align: right;\">\n",
       "      <th></th>\n",
       "      <th>img_path</th>\n",
       "      <th>label</th>\n",
       "    </tr>\n",
       "  </thead>\n",
       "  <tbody>\n",
       "    <tr>\n",
       "      <th>0</th>\n",
       "      <td>/mnt/home/20180878/EE488B_project/vgg_data/tra...</td>\n",
       "      <td>0</td>\n",
       "    </tr>\n",
       "    <tr>\n",
       "      <th>1</th>\n",
       "      <td>/mnt/home/20180878/EE488B_project/vgg_data/tra...</td>\n",
       "      <td>0</td>\n",
       "    </tr>\n",
       "    <tr>\n",
       "      <th>2</th>\n",
       "      <td>/mnt/home/20180878/EE488B_project/vgg_data/tra...</td>\n",
       "      <td>0</td>\n",
       "    </tr>\n",
       "    <tr>\n",
       "      <th>3</th>\n",
       "      <td>/mnt/home/20180878/EE488B_project/vgg_data/tra...</td>\n",
       "      <td>0</td>\n",
       "    </tr>\n",
       "    <tr>\n",
       "      <th>4</th>\n",
       "      <td>/mnt/home/20180878/EE488B_project/vgg_data/tra...</td>\n",
       "      <td>0</td>\n",
       "    </tr>\n",
       "  </tbody>\n",
       "</table>\n",
       "</div>"
      ],
      "text/plain": [
       "                                            img_path  label\n",
       "0  /mnt/home/20180878/EE488B_project/vgg_data/tra...      0\n",
       "1  /mnt/home/20180878/EE488B_project/vgg_data/tra...      0\n",
       "2  /mnt/home/20180878/EE488B_project/vgg_data/tra...      0\n",
       "3  /mnt/home/20180878/EE488B_project/vgg_data/tra...      0\n",
       "4  /mnt/home/20180878/EE488B_project/vgg_data/tra...      0"
      ]
     },
     "execution_count": 2,
     "metadata": {},
     "output_type": "execute_result"
    }
   ],
   "source": [
    "all_data = []\n",
    "classes = os.listdir(MAIN_DIR)\n",
    "for idx in range(len(classes)):\n",
    "    cls = classes[idx]\n",
    "    cls_dir = os.path.join(MAIN_DIR, cls)\n",
    "    for img_name in os.listdir(cls_dir):\n",
    "        all_data.append({\n",
    "            \"img_path\": os.path.join(cls_dir, img_name),\n",
    "            \"label\": idx\n",
    "        })\n",
    "df = pd.DataFrame(all_data)\n",
    "print(len(df))\n",
    "df.head()"
   ]
  },
  {
   "cell_type": "code",
   "execution_count": 6,
   "id": "163b6a8d",
   "metadata": {},
   "outputs": [
    {
     "data": {
      "text/plain": [
       "(502702, 125676)"
      ]
     },
     "execution_count": 6,
     "metadata": {},
     "output_type": "execute_result"
    }
   ],
   "source": [
    "from sklearn.model_selection import train_test_split\n",
    "used, unused = train_test_split(df, stratify=df['label'], test_size = 0.8, random_state=42)\n",
    "train, valid = train_test_split(used, stratify=used['label'], test_size = 0.2, random_state=42)\n",
    "len(train), len(valid)"
   ]
  },
  {
   "cell_type": "code",
   "execution_count": 7,
   "id": "fd5cda33",
   "metadata": {},
   "outputs": [],
   "source": [
    "train.to_csv(\"../vgg_data/train.csv\", index = None)\n",
    "valid.to_csv(\"../vgg_data/valid.csv\", index = None)"
   ]
  },
  {
   "cell_type": "code",
   "execution_count": null,
   "id": "8bd05c46",
   "metadata": {},
   "outputs": [],
   "source": []
  }
 ],
 "metadata": {
  "kernelspec": {
   "display_name": "Python 3 (ipykernel)",
   "language": "python",
   "name": "python3"
  },
  "language_info": {
   "codemirror_mode": {
    "name": "ipython",
    "version": 3
   },
   "file_extension": ".py",
   "mimetype": "text/x-python",
   "name": "python",
   "nbconvert_exporter": "python",
   "pygments_lexer": "ipython3",
   "version": "3.9.13"
  }
 },
 "nbformat": 4,
 "nbformat_minor": 5
}
