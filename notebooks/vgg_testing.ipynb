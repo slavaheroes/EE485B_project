{
 "cells": [
  {
   "cell_type": "code",
   "execution_count": 1,
   "id": "d2038050",
   "metadata": {},
   "outputs": [],
   "source": [
    "import sys\n",
    "sys.path.append(\"..\")"
   ]
  },
  {
   "cell_type": "code",
   "execution_count": 9,
   "id": "db0bfab1",
   "metadata": {},
   "outputs": [],
   "source": [
    "import utils\n",
    "from argparse import ArgumentParser\n",
    "from DatasetLoader import VGG_dataset\n",
    "import torchvision.transforms as transforms\n",
    "from models.EmbedNet import EmbedNet\n",
    "import torch.optim as optim\n",
    "from tqdm import tqdm\n",
    "from loguru import logger\n",
    "import timm\n",
    "import os\n",
    "\n",
    "from pytorch_metric_learning import distances, losses, miners, reducers, testers\n",
    "from pytorch_metric_learning.utils.accuracy_calculator import AccuracyCalculator\n",
    "import torch"
   ]
  },
  {
   "cell_type": "code",
   "execution_count": 3,
   "id": "a55c16c1",
   "metadata": {},
   "outputs": [],
   "source": [
    "def train(model, loss_func, mining_func, loader, optimizer):\n",
    "    loss = 0\n",
    "    counter = 0\n",
    "    with tqdm(loader, unit=\"batch\") as tepoch:\n",
    "        for data, labels in tepoch:\n",
    "            data, labels = data.to(\"cuda:1\"), labels.to(\"cuda:1\")\n",
    "            optimizer.zero_grad()\n",
    "            embeddings = model(data)\n",
    "            indices_tuple = mining_func(embeddings, labels)\n",
    "            loss = loss_func(embeddings, labels, indices_tuple)\n",
    "            loss.backward()\n",
    "            optimizer.step()\n",
    "            loss    += loss.detach().cpu().item()\n",
    "            counter += 1\n",
    "            tepoch.set_postfix(loss=loss/counter)\n",
    "\n",
    "    return loss/counter\n",
    "\n",
    "\n",
    "### convenient function from pytorch-metric-learning ###\n",
    "def get_all_embeddings(dataset, model):\n",
    "    tester = testers.BaseTester()\n",
    "    return tester.get_all_embeddings(dataset, model)\n",
    "\n",
    "### compute accuracy using AccuracyCalculator from pytorch-metric-learning ###\n",
    "def test(train_set, test_set, model, accuracy_calculator):\n",
    "    train_embeddings, train_labels = get_all_embeddings(train_set, model)\n",
    "    test_embeddings, test_labels = get_all_embeddings(test_set, model)\n",
    "    train_labels = train_labels.squeeze(1)\n",
    "    test_labels = test_labels.squeeze(1)\n",
    "    logger.info(\"Computing accuracy\")\n",
    "    accuracies = accuracy_calculator.get_accuracy(\n",
    "        test_embeddings, train_embeddings, test_labels, train_labels, False\n",
    "    )\n",
    "    logger.info(\"Test set accuracy (Precision@1) = {}\".format(accuracies[\"precision_at_1\"]))\n",
    "    return accuracies[\"precision_at_1\"]\n"
   ]
  },
  {
   "cell_type": "code",
   "execution_count": 4,
   "id": "22211a39",
   "metadata": {},
   "outputs": [],
   "source": [
    "\n",
    "config = utils.load_yaml(\"../experiments/baseline.yaml\")\n",
    "utils.seed_everything(config[\"seed\"])\n",
    "\n",
    "# ------ DATASET -------\n",
    "train_transform = transforms.Compose(\n",
    "        [transforms.ToTensor(),\n",
    "        transforms.Resize((224, 224)),\n",
    "        transforms.RandomHorizontalFlip(p=0.5),\n",
    "        transforms.Normalize(mean=[0.485, 0.456, 0.406], std=[0.229, 0.224, 0.225])]\n",
    ")\n",
    "\n",
    "test_transform = transforms.Compose(\n",
    "    [transforms.ToTensor(),\n",
    "     transforms.Resize((224, 224)),\n",
    "     transforms.Normalize(mean=[0.485, 0.456, 0.406], std=[0.229, 0.224, 0.225])])\n",
    "\n",
    "train_dataset, valid_dataset = VGG_dataset(\"../vgg_data/train.csv\", train_transform),\\\n",
    "    VGG_dataset(\"../vgg_data/valid.csv\", test_transform)\n",
    "\n",
    "train_loader = torch.utils.data.DataLoader(\n",
    "    train_dataset, batch_size=100, num_workers=5\n",
    ")\n",
    "test_loader = torch.utils.data.DataLoader(valid_dataset, batch_size=100)"
   ]
  },
  {
   "cell_type": "code",
   "execution_count": 5,
   "id": "ff0b26f4",
   "metadata": {},
   "outputs": [],
   "source": [
    "model_name = \"visformer_tiny\"\n",
    "model = timm.create_model(model_name, num_classes = 768) #EmbedNet(config)\n",
    "optimizer = optim.Adam(model.parameters(), lr=0.001)"
   ]
  },
  {
   "cell_type": "code",
   "execution_count": 6,
   "id": "bca1d624",
   "metadata": {},
   "outputs": [],
   "source": [
    "### pytorch-metric-learning stuff ###\n",
    "distance = distances.CosineSimilarity()\n",
    "reducer = reducers.ThresholdReducer(low=0)\n",
    "loss_func = losses.TripletMarginLoss(margin=0.3, distance=distance, reducer=reducer)\n",
    "mining_func = miners.TripletMarginMiner(\n",
    "    margin=0.3, distance=distance, type_of_triplets=\"semihard\"\n",
    ")\n",
    "accuracy_calculator = AccuracyCalculator(include=(\"precision_at_1\",), k=1)"
   ]
  },
  {
   "cell_type": "code",
   "execution_count": 10,
   "id": "3b378247",
   "metadata": {},
   "outputs": [
    {
     "name": "stderr",
     "output_type": "stream",
     "text": [
      "2022-11-25 20:44:45.094 | INFO     | __main__:<module>:4 - Start of 1/1\n",
      "  2%|▉                                             | 99/5028 [00:38<32:12,  2.55batch/s, loss=tensor(0.0025, device='cuda:1', grad_fn=<DivBackward0>)]\n",
      "2022-11-25 20:45:23.911 | INFO     | __main__:<module>:6 - Train loss 0.0025270201731473207\n",
      "2022-11-25 20:45:23.912 | INFO     | __main__:<module>:7 - End of 1/1\n",
      "2022-11-25 20:45:24.001 | INFO     | __main__:<module>:14 - Training is finished\n"
     ]
    }
   ],
   "source": [
    "num_epochs = 1\n",
    "for epoch in range(1, num_epochs + 1):\n",
    "    model.to(\"cuda:1\")\n",
    "    logger.info(f'Start of {epoch}/{num_epochs}')\n",
    "    train_loss = train(model, loss_func, mining_func, train_loader, optimizer)\n",
    "    logger.info(f'Train loss {train_loss}')\n",
    "    logger.info(f'End of {epoch}/{num_epochs}')\n",
    "    \n",
    "model.cpu()\n",
    "torch.save({\n",
    "    \"epoch\": epoch,\n",
    "    \"state_dict\": model.state_dict(),\n",
    "}, os.path.join(\"../logs/\", \"best_pretrained_model.pth\"))\n",
    "logger.info('Training is finished')"
   ]
  },
  {
   "cell_type": "code",
   "execution_count": null,
   "id": "7069c735",
   "metadata": {},
   "outputs": [],
   "source": []
  }
 ],
 "metadata": {
  "kernelspec": {
   "display_name": "Python 3 (ipykernel)",
   "language": "python",
   "name": "python3"
  },
  "language_info": {
   "codemirror_mode": {
    "name": "ipython",
    "version": 3
   },
   "file_extension": ".py",
   "mimetype": "text/x-python",
   "name": "python",
   "nbconvert_exporter": "python",
   "pygments_lexer": "ipython3",
   "version": "3.9.13"
  }
 },
 "nbformat": 4,
 "nbformat_minor": 5
}
