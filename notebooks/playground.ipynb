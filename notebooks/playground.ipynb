{
 "cells": [
  {
   "cell_type": "code",
   "execution_count": 3,
   "id": "9e8b5d2d",
   "metadata": {},
   "outputs": [],
   "source": [
    "import sys\n",
    "sys.path.append(\"..\")"
   ]
  },
  {
   "cell_type": "code",
   "execution_count": 8,
   "id": "a6178938",
   "metadata": {},
   "outputs": [],
   "source": [
    "import pandas as pd\n",
    "import utils\n",
    "from argparse import ArgumentParser\n",
    "import os\n",
    "import importlib\n",
    "from loguru import logger\n",
    "from DatasetLoader import get_data_loader, test_dataset_loader\n",
    "import torchvision.transforms as transforms\n",
    "from models.EmbedNet import EmbedNet\n",
    "from losses import LossFunction\n",
    "import torch\n",
    "\n",
    "from trainer import ModelTrainer\n",
    "\n",
    "\n",
    "train_transform = transforms.Compose(\n",
    "        [transforms.ToTensor(),\n",
    "        transforms.Resize(224),\n",
    "        transforms.Normalize(mean=[0.485, 0.456, 0.406], std=[0.229, 0.224, 0.225])])\n",
    "\n",
    "## Input transformations for evaluation\n",
    "test_transform = transforms.Compose(\n",
    "    [transforms.ToTensor(),\n",
    "     transforms.Resize(224),\n",
    "     transforms.Normalize(mean=[0.485, 0.456, 0.406], std=[0.229, 0.224, 0.225])])\n",
    "\n",
    "\n"
   ]
  },
  {
   "cell_type": "code",
   "execution_count": 37,
   "id": "8d3fd722",
   "metadata": {},
   "outputs": [
    {
     "name": "stdout",
     "output_type": "stream",
     "text": [
      "83298 files from 1230 classes found.\n"
     ]
    }
   ],
   "source": [
    "from DatasetLoader import meta_loader, meta_sampler\n",
    "\n",
    "train_dataset = meta_loader(\"../data/train/\", \"jpg\", train_transform)\n",
    "train_sampler = meta_sampler(train_dataset, nPerClass=2, max_img_per_cls=500, batch_size=2)"
   ]
  },
  {
   "cell_type": "code",
   "execution_count": 38,
   "id": "820430f9",
   "metadata": {},
   "outputs": [],
   "source": [
    "import numpy\n",
    "def worker_init_fn(worker_id):\n",
    "    numpy.random.seed(numpy.random.get_state()[1][0] + worker_id)"
   ]
  },
  {
   "cell_type": "code",
   "execution_count": 39,
   "id": "5e5b9c64",
   "metadata": {},
   "outputs": [],
   "source": [
    "train_loader = torch.utils.data.DataLoader(\n",
    "        train_dataset,\n",
    "        batch_size=2,\n",
    "        num_workers=5,\n",
    "        sampler=train_sampler,\n",
    "        pin_memory=False,\n",
    "        worker_init_fn=worker_init_fn,\n",
    "        drop_last=True,\n",
    "    )"
   ]
  },
  {
   "cell_type": "code",
   "execution_count": 42,
   "id": "8c156d9f",
   "metadata": {},
   "outputs": [],
   "source": [
    "for data, label in train_loader:\n",
    "    \n",
    "    break"
   ]
  },
  {
   "cell_type": "code",
   "execution_count": 43,
   "id": "6ee160d6",
   "metadata": {},
   "outputs": [
    {
     "data": {
      "text/plain": [
       "(torch.Size([2, 2, 3, 224, 224]), tensor([ 495, 1080]))"
      ]
     },
     "execution_count": 43,
     "metadata": {},
     "output_type": "execute_result"
    }
   ],
   "source": [
    "data.shape, label"
   ]
  },
  {
   "cell_type": "code",
   "execution_count": 44,
   "id": "11e2ffef",
   "metadata": {},
   "outputs": [
    {
     "data": {
      "text/plain": [
       "torch.Size([4, 3, 224, 224])"
      ]
     },
     "execution_count": 44,
     "metadata": {},
     "output_type": "execute_result"
    }
   ],
   "source": [
    "data    = data.reshape(-1,data.size()[-3],data.size()[-2],data.size()[-1])\n",
    "data.shape"
   ]
  },
  {
   "cell_type": "code",
   "execution_count": null,
   "id": "592e3a0c",
   "metadata": {},
   "outputs": [],
   "source": []
  }
 ],
 "metadata": {
  "kernelspec": {
   "display_name": "Python 3 (ipykernel)",
   "language": "python",
   "name": "python3"
  },
  "language_info": {
   "codemirror_mode": {
    "name": "ipython",
    "version": 3
   },
   "file_extension": ".py",
   "mimetype": "text/x-python",
   "name": "python",
   "nbconvert_exporter": "python",
   "pygments_lexer": "ipython3",
   "version": "3.9.13"
  }
 },
 "nbformat": 4,
 "nbformat_minor": 5
}
